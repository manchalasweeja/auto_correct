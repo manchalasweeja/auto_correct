{
 "cells": [
  {
   "cell_type": "code",
   "execution_count": 1,
   "id": "e75b9154",
   "metadata": {},
   "outputs": [
    {
     "name": "stdout",
     "output_type": "stream",
     "text": [
      "Collecting pyspellchecker\n",
      "  Downloading pyspellchecker-0.7.2-py3-none-any.whl (3.4 MB)\n",
      "     ---------------------------------------- 3.4/3.4 MB 4.1 MB/s eta 0:00:00\n",
      "Installing collected packages: pyspellchecker\n",
      "Successfully installed pyspellchecker-0.7.2\n",
      "Misspelled word: helo\n",
      "Corrected word: help\n"
     ]
    }
   ],
   "source": [
    "from spellchecker import SpellChecker\n",
    "\n",
    "def correct_word(word):\n",
    "    spell = SpellChecker()\n",
    "    corrected_word = spell.correction(word)\n",
    "    return corrected_word\n",
    "\n",
    "misspelled_word = \"helo\"\n",
    "corrected_word = correct_word(misspelled_word)\n",
    "print(f\"Misspelled word: {misspelled_word}\")\n",
    "print(f\"Corrected word: {corrected_word}\")"
   ]
  },
  {
   "cell_type": "code",
   "execution_count": 2,
   "id": "3e7c4f37",
   "metadata": {},
   "outputs": [
    {
     "name": "stdout",
     "output_type": "stream",
     "text": [
      "Requirement already satisfied: textdistance in c:\\users\\shivani\\anaconda3\\lib\\site-packages (4.2.1)\n",
      "Enter the misspelled word: heollo\n",
      "Misspelled word: heollo\n",
      "Closest word: banana\n"
     ]
    }
   ],
   "source": [
    "!pip install textdistance\n",
    "\n",
    "import textdistance\n",
    "\n",
    "def correct_word(word):\n",
    "    dictionary = ['apple', 'banana', 'orange', 'pear', 'peach']  # Example dictionary of words\n",
    "    closest_word = min(dictionary, key=lambda x: textdistance.levenshtein.normalized_similarity(word, x))\n",
    "    return closest_word\n",
    "\n",
    "# Get user input\n",
    "misspelled_word = input(\"Enter the misspelled word: \")\n",
    "\n",
    "# Find the closest word\n",
    "closest_word = correct_word(misspelled_word)\n",
    "\n",
    "print(f\"Misspelled word: {misspelled_word}\")\n",
    "print(f\"Closest word: {closest_word}\")\n"
   ]
  },
  {
   "cell_type": "code",
   "execution_count": null,
   "id": "d0546cb3",
   "metadata": {},
   "outputs": [],
   "source": []
  }
 ],
 "metadata": {
  "kernelspec": {
   "display_name": "Python 3 (ipykernel)",
   "language": "python",
   "name": "python3"
  },
  "language_info": {
   "codemirror_mode": {
    "name": "ipython",
    "version": 3
   },
   "file_extension": ".py",
   "mimetype": "text/x-python",
   "name": "python",
   "nbconvert_exporter": "python",
   "pygments_lexer": "ipython3",
   "version": "3.9.13"
  }
 },
 "nbformat": 4,
 "nbformat_minor": 5
}
